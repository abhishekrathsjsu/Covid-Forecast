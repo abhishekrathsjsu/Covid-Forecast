{
  "nbformat": 4,
  "nbformat_minor": 0,
  "metadata": {
    "colab": {
      "name": "SP20_EE257_ExtraCredit_Week5_Krishal_Abhishek.ipynb",
      "provenance": [],
      "collapsed_sections": []
    },
    "kernelspec": {
      "display_name": "Python 3",
      "language": "python",
      "name": "python3"
    },
    "language_info": {
      "codemirror_mode": {
        "name": "ipython",
        "version": 3
      },
      "file_extension": ".py",
      "mimetype": "text/x-python",
      "name": "python",
      "nbconvert_exporter": "python",
      "pygments_lexer": "ipython3",
      "version": "3.7.6"
    }
  },
  "cells": [
    {
      "cell_type": "code",
      "metadata": {
        "_cell_guid": "b1076dfc-b9ad-4769-8c92-a6c4dae69d19",
        "_uuid": "8f2839f25d086af736a60e9eeb907d3b93b6e0e5",
        "id": "rSHBzvPG2vLY",
        "colab_type": "code",
        "colab": {}
      },
      "source": [
        "# Required Python Lbraries\n",
        "\n",
        "import numpy as np \n",
        "import pandas as pd\n",
        "import seaborn as sns\n",
        "from scipy import stats\n",
        "import matplotlib.pyplot as plt\n",
        "import plotly.express as px\n",
        "import os\n",
        "import math\n",
        "\n",
        "from datetime import datetime\n",
        "from sklearn.metrics import mean_squared_error\n",
        "%matplotlib inline\n",
        "#Model Libraries\n",
        "from sklearn.ensemble import RandomForestRegressor\n",
        "from sklearn.model_selection import GridSearchCV, KFold\n",
        "#from sklearn.tree import DecisionTreeRegressor\n",
        "#from sklearn.ensemble import BaggingRegressor\n",
        "#from sklearn.tree import ExtraTreeRegressor\n",
        "\n"
      ],
      "execution_count": 0,
      "outputs": []
    },
    {
      "cell_type": "markdown",
      "metadata": {
        "id": "Lr3qZbKI2vNY",
        "colab_type": "text"
      },
      "source": [
        "## Read Data"
      ]
    },
    {
      "cell_type": "code",
      "metadata": {
        "_cell_guid": "79c7e3d0-c299-4dcb-8224-4455121ee9b0",
        "_uuid": "d629ff2d2480ee46fbb7e2d37f6b5fab8052498a",
        "id": "gsKC4S-g2vNd",
        "colab_type": "code",
        "colab": {}
      },
      "source": [
        "# Reading data for training and test datset\n",
        "train = pd.read_csv('../input/covid19-global-forecasting-week-5/train.csv')\n",
        "test = pd.read_csv('../input/covid19-global-forecasting-week-5/test.csv')"
      ],
      "execution_count": 0,
      "outputs": []
    },
    {
      "cell_type": "code",
      "metadata": {
        "id": "hQpmazE-2vN3",
        "outputId": "1f11627f-4e79-4c2b-d9c1-bf3e9af7d8cf",
        "colab_type": "code",
        "colab": {}
      },
      "source": [
        "#Finding features in the dataset \n",
        "train.columns"
      ],
      "execution_count": 0,
      "outputs": [
        {
          "output_type": "execute_result",
          "data": {
            "text/plain": [
              "Index(['Id', 'County', 'Province_State', 'Country_Region', 'Population',\n",
              "       'Weight', 'Date', 'Target', 'TargetValue'],\n",
              "      dtype='object')"
            ]
          },
          "metadata": {
            "tags": []
          },
          "execution_count": 3
        }
      ]
    },
    {
      "cell_type": "markdown",
      "metadata": {
        "id": "HT90U-RA2vOR",
        "colab_type": "text"
      },
      "source": [
        "### Checking Missing Values"
      ]
    },
    {
      "cell_type": "code",
      "metadata": {
        "id": "gFLC9RDj2vOV",
        "outputId": "4806f841-680d-49c8-ec14-50194d7a4068",
        "colab_type": "code",
        "colab": {}
      },
      "source": [
        "#Checking missing values in the training dataset\n",
        "train.isnull().sum()"
      ],
      "execution_count": 0,
      "outputs": [
        {
          "output_type": "execute_result",
          "data": {
            "text/plain": [
              "Id                    0\n",
              "County            67840\n",
              "Province_State    39644\n",
              "Country_Region        0\n",
              "Population            0\n",
              "Weight                0\n",
              "Date                  0\n",
              "Target                0\n",
              "TargetValue           0\n",
              "dtype: int64"
            ]
          },
          "metadata": {
            "tags": []
          },
          "execution_count": 4
        }
      ]
    },
    {
      "cell_type": "code",
      "metadata": {
        "id": "AeesVHPE2vOo",
        "outputId": "86329286-f66f-4e73-b276-02f49107e37d",
        "colab_type": "code",
        "colab": {}
      },
      "source": [
        "#Checking missing values in the testing dataset\n",
        "test.isnull().sum()"
      ],
      "execution_count": 0,
      "outputs": [
        {
          "output_type": "execute_result",
          "data": {
            "text/plain": [
              "ForecastId            0\n",
              "County            28800\n",
              "Province_State    16830\n",
              "Country_Region        0\n",
              "Population            0\n",
              "Weight                0\n",
              "Date                  0\n",
              "Target                0\n",
              "dtype: int64"
            ]
          },
          "metadata": {
            "tags": []
          },
          "execution_count": 5
        }
      ]
    },
    {
      "cell_type": "code",
      "metadata": {
        "id": "4a2kwvOu2vP4",
        "outputId": "e039a7d6-0182-4a3b-e447-f651196adc3d",
        "colab_type": "code",
        "colab": {}
      },
      "source": [
        "# Sorting data as per TargetValue'\n",
        "train.sort_values(by=['TargetValue'])"
      ],
      "execution_count": 0,
      "outputs": [
        {
          "output_type": "execute_result",
          "data": {
            "text/html": [
              "<div>\n",
              "<style scoped>\n",
              "    .dataframe tbody tr th:only-of-type {\n",
              "        vertical-align: middle;\n",
              "    }\n",
              "\n",
              "    .dataframe tbody tr th {\n",
              "        vertical-align: top;\n",
              "    }\n",
              "\n",
              "    .dataframe thead th {\n",
              "        text-align: right;\n",
              "    }\n",
              "</style>\n",
              "<table border=\"1\" class=\"dataframe\">\n",
              "  <thead>\n",
              "    <tr style=\"text-align: right;\">\n",
              "      <th></th>\n",
              "      <th>Id</th>\n",
              "      <th>County</th>\n",
              "      <th>Province_State</th>\n",
              "      <th>Country_Region</th>\n",
              "      <th>Population</th>\n",
              "      <th>Weight</th>\n",
              "      <th>Date</th>\n",
              "      <th>Target</th>\n",
              "      <th>TargetValue</th>\n",
              "    </tr>\n",
              "  </thead>\n",
              "  <tbody>\n",
              "    <tr>\n",
              "      <th>48096</th>\n",
              "      <td>63465</td>\n",
              "      <td>NaN</td>\n",
              "      <td>NaN</td>\n",
              "      <td>Spain</td>\n",
              "      <td>46438422</td>\n",
              "      <td>0.056646</td>\n",
              "      <td>2020-04-24</td>\n",
              "      <td>ConfirmedCases</td>\n",
              "      <td>-10034.0</td>\n",
              "    </tr>\n",
              "    <tr>\n",
              "      <th>27118</th>\n",
              "      <td>35755</td>\n",
              "      <td>NaN</td>\n",
              "      <td>NaN</td>\n",
              "      <td>France</td>\n",
              "      <td>66710000</td>\n",
              "      <td>0.055507</td>\n",
              "      <td>2020-04-29</td>\n",
              "      <td>ConfirmedCases</td>\n",
              "      <td>-2512.0</td>\n",
              "    </tr>\n",
              "    <tr>\n",
              "      <th>27104</th>\n",
              "      <td>35741</td>\n",
              "      <td>NaN</td>\n",
              "      <td>NaN</td>\n",
              "      <td>France</td>\n",
              "      <td>66710000</td>\n",
              "      <td>0.055507</td>\n",
              "      <td>2020-04-22</td>\n",
              "      <td>ConfirmedCases</td>\n",
              "      <td>-2206.0</td>\n",
              "    </tr>\n",
              "    <tr>\n",
              "      <th>22894</th>\n",
              "      <td>30171</td>\n",
              "      <td>NaN</td>\n",
              "      <td>NaN</td>\n",
              "      <td>Ecuador</td>\n",
              "      <td>16545799</td>\n",
              "      <td>0.060163</td>\n",
              "      <td>2020-05-07</td>\n",
              "      <td>ConfirmedCases</td>\n",
              "      <td>-1583.0</td>\n",
              "    </tr>\n",
              "    <tr>\n",
              "      <th>32416</th>\n",
              "      <td>42753</td>\n",
              "      <td>NaN</td>\n",
              "      <td>NaN</td>\n",
              "      <td>Japan</td>\n",
              "      <td>126960000</td>\n",
              "      <td>0.053592</td>\n",
              "      <td>2020-04-28</td>\n",
              "      <td>ConfirmedCases</td>\n",
              "      <td>-417.0</td>\n",
              "    </tr>\n",
              "    <tr>\n",
              "      <th>...</th>\n",
              "      <td>...</td>\n",
              "      <td>...</td>\n",
              "      <td>...</td>\n",
              "      <td>...</td>\n",
              "      <td>...</td>\n",
              "      <td>...</td>\n",
              "      <td>...</td>\n",
              "      <td>...</td>\n",
              "      <td>...</td>\n",
              "    </tr>\n",
              "    <tr>\n",
              "      <th>729220</th>\n",
              "      <td>963073</td>\n",
              "      <td>NaN</td>\n",
              "      <td>NaN</td>\n",
              "      <td>US</td>\n",
              "      <td>324141489</td>\n",
              "      <td>0.051029</td>\n",
              "      <td>2020-04-08</td>\n",
              "      <td>ConfirmedCases</td>\n",
              "      <td>32826.0</td>\n",
              "    </tr>\n",
              "    <tr>\n",
              "      <th>729212</th>\n",
              "      <td>963065</td>\n",
              "      <td>NaN</td>\n",
              "      <td>NaN</td>\n",
              "      <td>US</td>\n",
              "      <td>324141489</td>\n",
              "      <td>0.051029</td>\n",
              "      <td>2020-04-04</td>\n",
              "      <td>ConfirmedCases</td>\n",
              "      <td>33267.0</td>\n",
              "    </tr>\n",
              "    <tr>\n",
              "      <th>729266</th>\n",
              "      <td>963119</td>\n",
              "      <td>NaN</td>\n",
              "      <td>NaN</td>\n",
              "      <td>US</td>\n",
              "      <td>324141489</td>\n",
              "      <td>0.051029</td>\n",
              "      <td>2020-05-01</td>\n",
              "      <td>ConfirmedCases</td>\n",
              "      <td>34037.0</td>\n",
              "    </tr>\n",
              "    <tr>\n",
              "      <th>729224</th>\n",
              "      <td>963077</td>\n",
              "      <td>NaN</td>\n",
              "      <td>NaN</td>\n",
              "      <td>US</td>\n",
              "      <td>324141489</td>\n",
              "      <td>0.051029</td>\n",
              "      <td>2020-04-10</td>\n",
              "      <td>ConfirmedCases</td>\n",
              "      <td>35098.0</td>\n",
              "    </tr>\n",
              "    <tr>\n",
              "      <th>729252</th>\n",
              "      <td>963105</td>\n",
              "      <td>NaN</td>\n",
              "      <td>NaN</td>\n",
              "      <td>US</td>\n",
              "      <td>324141489</td>\n",
              "      <td>0.051029</td>\n",
              "      <td>2020-04-24</td>\n",
              "      <td>ConfirmedCases</td>\n",
              "      <td>36163.0</td>\n",
              "    </tr>\n",
              "  </tbody>\n",
              "</table>\n",
              "<p>734156 rows × 9 columns</p>\n",
              "</div>"
            ],
            "text/plain": [
              "            Id County Province_State Country_Region  Population    Weight  \\\n",
              "48096    63465    NaN            NaN          Spain    46438422  0.056646   \n",
              "27118    35755    NaN            NaN         France    66710000  0.055507   \n",
              "27104    35741    NaN            NaN         France    66710000  0.055507   \n",
              "22894    30171    NaN            NaN        Ecuador    16545799  0.060163   \n",
              "32416    42753    NaN            NaN          Japan   126960000  0.053592   \n",
              "...        ...    ...            ...            ...         ...       ...   \n",
              "729220  963073    NaN            NaN             US   324141489  0.051029   \n",
              "729212  963065    NaN            NaN             US   324141489  0.051029   \n",
              "729266  963119    NaN            NaN             US   324141489  0.051029   \n",
              "729224  963077    NaN            NaN             US   324141489  0.051029   \n",
              "729252  963105    NaN            NaN             US   324141489  0.051029   \n",
              "\n",
              "              Date          Target  TargetValue  \n",
              "48096   2020-04-24  ConfirmedCases     -10034.0  \n",
              "27118   2020-04-29  ConfirmedCases      -2512.0  \n",
              "27104   2020-04-22  ConfirmedCases      -2206.0  \n",
              "22894   2020-05-07  ConfirmedCases      -1583.0  \n",
              "32416   2020-04-28  ConfirmedCases       -417.0  \n",
              "...            ...             ...          ...  \n",
              "729220  2020-04-08  ConfirmedCases      32826.0  \n",
              "729212  2020-04-04  ConfirmedCases      33267.0  \n",
              "729266  2020-05-01  ConfirmedCases      34037.0  \n",
              "729224  2020-04-10  ConfirmedCases      35098.0  \n",
              "729252  2020-04-24  ConfirmedCases      36163.0  \n",
              "\n",
              "[734156 rows x 9 columns]"
            ]
          },
          "metadata": {
            "tags": []
          },
          "execution_count": 6
        }
      ]
    },
    {
      "cell_type": "markdown",
      "metadata": {
        "id": "uIyha_Ug2vSY",
        "colab_type": "text"
      },
      "source": [
        "## Data Preprocessing"
      ]
    },
    {
      "cell_type": "code",
      "metadata": {
        "id": "K0RnjZSv2vSb",
        "outputId": "fbab888e-0b22-48f0-c97c-b3f677690eaa",
        "colab_type": "code",
        "colab": {}
      },
      "source": [
        "#Dropping the features County and Province for null values and Country Region and Target as they are not required\n",
        "train = train.drop(['County', 'Province_State','Country_Region','Target'], axis=1)\n",
        "test = test.drop(['County', 'Province_State','Country_Region','Target'], axis=1)\n",
        "train.head()"
      ],
      "execution_count": 0,
      "outputs": [
        {
          "output_type": "execute_result",
          "data": {
            "text/html": [
              "<div>\n",
              "<style scoped>\n",
              "    .dataframe tbody tr th:only-of-type {\n",
              "        vertical-align: middle;\n",
              "    }\n",
              "\n",
              "    .dataframe tbody tr th {\n",
              "        vertical-align: top;\n",
              "    }\n",
              "\n",
              "    .dataframe thead th {\n",
              "        text-align: right;\n",
              "    }\n",
              "</style>\n",
              "<table border=\"1\" class=\"dataframe\">\n",
              "  <thead>\n",
              "    <tr style=\"text-align: right;\">\n",
              "      <th></th>\n",
              "      <th>Id</th>\n",
              "      <th>Population</th>\n",
              "      <th>Weight</th>\n",
              "      <th>Date</th>\n",
              "      <th>TargetValue</th>\n",
              "    </tr>\n",
              "  </thead>\n",
              "  <tbody>\n",
              "    <tr>\n",
              "      <th>0</th>\n",
              "      <td>1</td>\n",
              "      <td>27657145</td>\n",
              "      <td>0.058359</td>\n",
              "      <td>2020-01-23</td>\n",
              "      <td>0.0</td>\n",
              "    </tr>\n",
              "    <tr>\n",
              "      <th>1</th>\n",
              "      <td>2</td>\n",
              "      <td>27657145</td>\n",
              "      <td>0.583587</td>\n",
              "      <td>2020-01-23</td>\n",
              "      <td>0.0</td>\n",
              "    </tr>\n",
              "    <tr>\n",
              "      <th>2</th>\n",
              "      <td>3</td>\n",
              "      <td>27657145</td>\n",
              "      <td>0.058359</td>\n",
              "      <td>2020-01-24</td>\n",
              "      <td>0.0</td>\n",
              "    </tr>\n",
              "    <tr>\n",
              "      <th>3</th>\n",
              "      <td>4</td>\n",
              "      <td>27657145</td>\n",
              "      <td>0.583587</td>\n",
              "      <td>2020-01-24</td>\n",
              "      <td>0.0</td>\n",
              "    </tr>\n",
              "    <tr>\n",
              "      <th>4</th>\n",
              "      <td>5</td>\n",
              "      <td>27657145</td>\n",
              "      <td>0.058359</td>\n",
              "      <td>2020-01-25</td>\n",
              "      <td>0.0</td>\n",
              "    </tr>\n",
              "  </tbody>\n",
              "</table>\n",
              "</div>"
            ],
            "text/plain": [
              "   Id  Population    Weight        Date  TargetValue\n",
              "0   1    27657145  0.058359  2020-01-23          0.0\n",
              "1   2    27657145  0.583587  2020-01-23          0.0\n",
              "2   3    27657145  0.058359  2020-01-24          0.0\n",
              "3   4    27657145  0.583587  2020-01-24          0.0\n",
              "4   5    27657145  0.058359  2020-01-25          0.0"
            ]
          },
          "metadata": {
            "tags": []
          },
          "execution_count": 7
        }
      ]
    },
    {
      "cell_type": "code",
      "metadata": {
        "id": "PQqYl1862vSr",
        "colab_type": "code",
        "colab": {}
      },
      "source": [
        "#Encoding the features to get quantittative feature from qualititative feature\n",
        "from sklearn.preprocessing import OrdinalEncoder\n",
        "\n",
        "def create_feature(df):\n",
        "    df['day'] = df['Date'].dt.day\n",
        "    df['month'] = df['Date'].dt.month\n",
        "    df['dayofweek'] = df['Date'].dt.dayofweek\n",
        "    df['dayofyear'] = df['Date'].dt.dayofyear\n",
        "    df['quarter'] = df['Date'].dt.quarter\n",
        "    df['weekofyear'] = df['Date'].dt.weekofyear\n",
        "    return df"
      ],
      "execution_count": 0,
      "outputs": []
    },
    {
      "cell_type": "code",
      "metadata": {
        "id": "HhiPzfyb2vS7",
        "colab_type": "code",
        "colab": {}
      },
      "source": [
        "def train_dev_split(df, days):\n",
        "    date = df['Date'].max() - dt.timedelta(days=days)\n",
        "    return df[df['Date'] <= date], df[df['Date'] > date]"
      ],
      "execution_count": 0,
      "outputs": []
    },
    {
      "cell_type": "code",
      "metadata": {
        "id": "gzI_lekg2vTN",
        "colab_type": "code",
        "colab": {}
      },
      "source": [
        "test_date_min = test['Date'].min()\n",
        "test_date_max = test['Date'].max()"
      ],
      "execution_count": 0,
      "outputs": []
    },
    {
      "cell_type": "code",
      "metadata": {
        "id": "kYjfBtgf2vTb",
        "colab_type": "code",
        "colab": {}
      },
      "source": [
        "def avoid_date_leakage(df, date=test_date_min):\n",
        "    return df[df['Date'] < date]"
      ],
      "execution_count": 0,
      "outputs": []
    },
    {
      "cell_type": "code",
      "metadata": {
        "id": "M8AHoEJm2vTo",
        "colab_type": "code",
        "colab": {}
      },
      "source": [
        "def to_integer(dt_time):#Data Conversion\n",
        "    return 10000*dt_time.year + 100*dt_time.month + dt_time.day"
      ],
      "execution_count": 0,
      "outputs": []
    },
    {
      "cell_type": "code",
      "metadata": {
        "id": "iNtIwMCU2vT2",
        "colab_type": "code",
        "colab": {}
      },
      "source": [
        "train['Date'] = pd.to_datetime(train['Date'])\n",
        "test['Date'] = pd.to_datetime(test['Date'])"
      ],
      "execution_count": 0,
      "outputs": []
    },
    {
      "cell_type": "code",
      "metadata": {
        "id": "YSVgqrxE2vUE",
        "colab_type": "code",
        "colab": {}
      },
      "source": [
        "train['Date'] = train['Date'].dt.strftime('%Y%m%d')\n",
        "test['Date'] = test['Date'].dt.strftime('%Y%m%d')"
      ],
      "execution_count": 0,
      "outputs": []
    },
    {
      "cell_type": "code",
      "metadata": {
        "id": "ZTOdThzy2vUS",
        "outputId": "103345de-efbd-4460-fb8f-a54aa8c02b8d",
        "colab_type": "code",
        "colab": {}
      },
      "source": [
        "train.head()#Modified training dataset"
      ],
      "execution_count": 0,
      "outputs": [
        {
          "output_type": "execute_result",
          "data": {
            "text/html": [
              "<div>\n",
              "<style scoped>\n",
              "    .dataframe tbody tr th:only-of-type {\n",
              "        vertical-align: middle;\n",
              "    }\n",
              "\n",
              "    .dataframe tbody tr th {\n",
              "        vertical-align: top;\n",
              "    }\n",
              "\n",
              "    .dataframe thead th {\n",
              "        text-align: right;\n",
              "    }\n",
              "</style>\n",
              "<table border=\"1\" class=\"dataframe\">\n",
              "  <thead>\n",
              "    <tr style=\"text-align: right;\">\n",
              "      <th></th>\n",
              "      <th>Id</th>\n",
              "      <th>Population</th>\n",
              "      <th>Weight</th>\n",
              "      <th>Date</th>\n",
              "      <th>TargetValue</th>\n",
              "    </tr>\n",
              "  </thead>\n",
              "  <tbody>\n",
              "    <tr>\n",
              "      <th>0</th>\n",
              "      <td>1</td>\n",
              "      <td>27657145</td>\n",
              "      <td>0.058359</td>\n",
              "      <td>20200123</td>\n",
              "      <td>0.0</td>\n",
              "    </tr>\n",
              "    <tr>\n",
              "      <th>1</th>\n",
              "      <td>2</td>\n",
              "      <td>27657145</td>\n",
              "      <td>0.583587</td>\n",
              "      <td>20200123</td>\n",
              "      <td>0.0</td>\n",
              "    </tr>\n",
              "    <tr>\n",
              "      <th>2</th>\n",
              "      <td>3</td>\n",
              "      <td>27657145</td>\n",
              "      <td>0.058359</td>\n",
              "      <td>20200124</td>\n",
              "      <td>0.0</td>\n",
              "    </tr>\n",
              "    <tr>\n",
              "      <th>3</th>\n",
              "      <td>4</td>\n",
              "      <td>27657145</td>\n",
              "      <td>0.583587</td>\n",
              "      <td>20200124</td>\n",
              "      <td>0.0</td>\n",
              "    </tr>\n",
              "    <tr>\n",
              "      <th>4</th>\n",
              "      <td>5</td>\n",
              "      <td>27657145</td>\n",
              "      <td>0.058359</td>\n",
              "      <td>20200125</td>\n",
              "      <td>0.0</td>\n",
              "    </tr>\n",
              "  </tbody>\n",
              "</table>\n",
              "</div>"
            ],
            "text/plain": [
              "   Id  Population    Weight      Date  TargetValue\n",
              "0   1    27657145  0.058359  20200123          0.0\n",
              "1   2    27657145  0.583587  20200123          0.0\n",
              "2   3    27657145  0.058359  20200124          0.0\n",
              "3   4    27657145  0.583587  20200124          0.0\n",
              "4   5    27657145  0.058359  20200125          0.0"
            ]
          },
          "metadata": {
            "tags": []
          },
          "execution_count": 15
        }
      ]
    },
    {
      "cell_type": "code",
      "metadata": {
        "id": "DwLdyhCq9f7U",
        "outputId": "40c68e85-8594-4cd6-8b81-b1b6ee8dc1fa",
        "colab_type": "code",
        "colab": {}
      },
      "source": [
        "train.info()#Training dataset information"
      ],
      "execution_count": 0,
      "outputs": [
        {
          "output_type": "stream",
          "text": [
            "<class 'pandas.core.frame.DataFrame'>\n",
            "RangeIndex: 734156 entries, 0 to 734155\n",
            "Data columns (total 5 columns):\n",
            " #   Column       Non-Null Count   Dtype  \n",
            "---  ------       --------------   -----  \n",
            " 0   Id           734156 non-null  int64  \n",
            " 1   Population   734156 non-null  int64  \n",
            " 2   Weight       734156 non-null  float64\n",
            " 3   Date         734156 non-null  object \n",
            " 4   TargetValue  734156 non-null  float64\n",
            "dtypes: float64(2), int64(2), object(1)\n",
            "memory usage: 28.0+ MB\n"
          ],
          "name": "stdout"
        }
      ]
    },
    {
      "cell_type": "code",
      "metadata": {
        "id": "ZcQCne49a7d1",
        "colab_type": "code",
        "colab": {},
        "outputId": "4fb21032-3042-4c94-da64-b9cfcfab10a7"
      },
      "source": [
        "test.head()#Checking modified testing dataset"
      ],
      "execution_count": 0,
      "outputs": [
        {
          "output_type": "execute_result",
          "data": {
            "text/html": [
              "<div>\n",
              "<style scoped>\n",
              "    .dataframe tbody tr th:only-of-type {\n",
              "        vertical-align: middle;\n",
              "    }\n",
              "\n",
              "    .dataframe tbody tr th {\n",
              "        vertical-align: top;\n",
              "    }\n",
              "\n",
              "    .dataframe thead th {\n",
              "        text-align: right;\n",
              "    }\n",
              "</style>\n",
              "<table border=\"1\" class=\"dataframe\">\n",
              "  <thead>\n",
              "    <tr style=\"text-align: right;\">\n",
              "      <th></th>\n",
              "      <th>ForecastId</th>\n",
              "      <th>Population</th>\n",
              "      <th>Weight</th>\n",
              "      <th>Date</th>\n",
              "    </tr>\n",
              "  </thead>\n",
              "  <tbody>\n",
              "    <tr>\n",
              "      <th>0</th>\n",
              "      <td>1</td>\n",
              "      <td>27657145</td>\n",
              "      <td>0.058359</td>\n",
              "      <td>20200427</td>\n",
              "    </tr>\n",
              "    <tr>\n",
              "      <th>1</th>\n",
              "      <td>2</td>\n",
              "      <td>27657145</td>\n",
              "      <td>0.583587</td>\n",
              "      <td>20200427</td>\n",
              "    </tr>\n",
              "    <tr>\n",
              "      <th>2</th>\n",
              "      <td>3</td>\n",
              "      <td>27657145</td>\n",
              "      <td>0.058359</td>\n",
              "      <td>20200428</td>\n",
              "    </tr>\n",
              "    <tr>\n",
              "      <th>3</th>\n",
              "      <td>4</td>\n",
              "      <td>27657145</td>\n",
              "      <td>0.583587</td>\n",
              "      <td>20200428</td>\n",
              "    </tr>\n",
              "    <tr>\n",
              "      <th>4</th>\n",
              "      <td>5</td>\n",
              "      <td>27657145</td>\n",
              "      <td>0.058359</td>\n",
              "      <td>20200429</td>\n",
              "    </tr>\n",
              "  </tbody>\n",
              "</table>\n",
              "</div>"
            ],
            "text/plain": [
              "   ForecastId  Population    Weight      Date\n",
              "0           1    27657145  0.058359  20200427\n",
              "1           2    27657145  0.583587  20200427\n",
              "2           3    27657145  0.058359  20200428\n",
              "3           4    27657145  0.583587  20200428\n",
              "4           5    27657145  0.058359  20200429"
            ]
          },
          "metadata": {
            "tags": []
          },
          "execution_count": 17
        }
      ]
    },
    {
      "cell_type": "markdown",
      "metadata": {
        "id": "g8c59E782vUh",
        "colab_type": "text"
      },
      "source": [
        "## Using Random Forest Regressor to find Target values"
      ]
    },
    {
      "cell_type": "code",
      "metadata": {
        "id": "PtN8gYq32vUj",
        "colab_type": "code",
        "colab": {}
      },
      "source": [
        "from sklearn.model_selection import train_test_split\n",
        "\n",
        "predictors = train.drop(['TargetValue', 'Id'], axis=1)\n",
        "target = train['TargetValue'] #Splitting dataset into test and valid dataset\n",
        "X_train, X_valid, y_train, y_valid = train_test_split(predictors, target, test_size=0.33, random_state=0)"
      ],
      "execution_count": 0,
      "outputs": []
    },
    {
      "cell_type": "code",
      "metadata": {
        "id": "mslCt21X2vU3",
        "outputId": "308240b3-0ca5-419a-9152-c8efd160f66e",
        "colab_type": "code",
        "colab": {}
      },
      "source": [
        "model = RandomForestRegressor(n_estimators=100,n_jobs = -1)\n",
        "model.fit(X_train, y_train)"
      ],
      "execution_count": 0,
      "outputs": [
        {
          "output_type": "execute_result",
          "data": {
            "text/plain": [
              "RandomForestRegressor(bootstrap=True, ccp_alpha=0.0, criterion='mse',\n",
              "                      max_depth=None, max_features='auto', max_leaf_nodes=None,\n",
              "                      max_samples=None, min_impurity_decrease=0.0,\n",
              "                      min_impurity_split=None, min_samples_leaf=1,\n",
              "                      min_samples_split=2, min_weight_fraction_leaf=0.0,\n",
              "                      n_estimators=100, n_jobs=-1, oob_score=False,\n",
              "                      random_state=None, verbose=0, warm_start=False)"
            ]
          },
          "metadata": {
            "tags": []
          },
          "execution_count": 19
        }
      ]
    },
    {
      "cell_type": "code",
      "metadata": {
        "id": "ziMJe4sG2vVG",
        "outputId": "b6774694-0e1a-4fa2-b604-1e447f602a32",
        "colab_type": "code",
        "colab": {}
      },
      "source": [
        "#Validation dateset prediction\n",
        "predictions=model.predict(X_valid)\n",
        "predictions"
      ],
      "execution_count": 0,
      "outputs": [
        {
          "output_type": "execute_result",
          "data": {
            "text/plain": [
              "array([0.        , 0.        , 0.        , ..., 1.26833694, 0.        ,\n",
              "       0.015     ])"
            ]
          },
          "metadata": {
            "tags": []
          },
          "execution_count": 20
        }
      ]
    },
    {
      "cell_type": "code",
      "metadata": {
        "id": "q8PFsMMg8kD2",
        "outputId": "2e4863fa-f782-484f-b4ff-63eb8a63e48c",
        "colab_type": "code",
        "colab": {}
      },
      "source": [
        "val_mse = mean_squared_error(predictions,y_valid)\n",
        "val_mse#Validation mean square error"
      ],
      "execution_count": 0,
      "outputs": [
        {
          "output_type": "execute_result",
          "data": {
            "text/plain": [
              "3501.2657841950395"
            ]
          },
          "metadata": {
            "tags": []
          },
          "execution_count": 21
        }
      ]
    },
    {
      "cell_type": "code",
      "metadata": {
        "id": "wWydowSLa7ef",
        "colab_type": "code",
        "colab": {},
        "outputId": "5baa6d4f-c088-4012-c66d-bd94000f489c"
      },
      "source": [
        "test.head()"
      ],
      "execution_count": 0,
      "outputs": [
        {
          "output_type": "execute_result",
          "data": {
            "text/html": [
              "<div>\n",
              "<style scoped>\n",
              "    .dataframe tbody tr th:only-of-type {\n",
              "        vertical-align: middle;\n",
              "    }\n",
              "\n",
              "    .dataframe tbody tr th {\n",
              "        vertical-align: top;\n",
              "    }\n",
              "\n",
              "    .dataframe thead th {\n",
              "        text-align: right;\n",
              "    }\n",
              "</style>\n",
              "<table border=\"1\" class=\"dataframe\">\n",
              "  <thead>\n",
              "    <tr style=\"text-align: right;\">\n",
              "      <th></th>\n",
              "      <th>ForecastId</th>\n",
              "      <th>Population</th>\n",
              "      <th>Weight</th>\n",
              "      <th>Date</th>\n",
              "    </tr>\n",
              "  </thead>\n",
              "  <tbody>\n",
              "    <tr>\n",
              "      <th>0</th>\n",
              "      <td>1</td>\n",
              "      <td>27657145</td>\n",
              "      <td>0.058359</td>\n",
              "      <td>20200427</td>\n",
              "    </tr>\n",
              "    <tr>\n",
              "      <th>1</th>\n",
              "      <td>2</td>\n",
              "      <td>27657145</td>\n",
              "      <td>0.583587</td>\n",
              "      <td>20200427</td>\n",
              "    </tr>\n",
              "    <tr>\n",
              "      <th>2</th>\n",
              "      <td>3</td>\n",
              "      <td>27657145</td>\n",
              "      <td>0.058359</td>\n",
              "      <td>20200428</td>\n",
              "    </tr>\n",
              "    <tr>\n",
              "      <th>3</th>\n",
              "      <td>4</td>\n",
              "      <td>27657145</td>\n",
              "      <td>0.583587</td>\n",
              "      <td>20200428</td>\n",
              "    </tr>\n",
              "    <tr>\n",
              "      <th>4</th>\n",
              "      <td>5</td>\n",
              "      <td>27657145</td>\n",
              "      <td>0.058359</td>\n",
              "      <td>20200429</td>\n",
              "    </tr>\n",
              "  </tbody>\n",
              "</table>\n",
              "</div>"
            ],
            "text/plain": [
              "   ForecastId  Population    Weight      Date\n",
              "0           1    27657145  0.058359  20200427\n",
              "1           2    27657145  0.583587  20200427\n",
              "2           3    27657145  0.058359  20200428\n",
              "3           4    27657145  0.583587  20200428\n",
              "4           5    27657145  0.058359  20200429"
            ]
          },
          "metadata": {
            "tags": []
          },
          "execution_count": 22
        }
      ]
    },
    {
      "cell_type": "code",
      "metadata": {
        "id": "U0KkcoPK2vVw",
        "colab_type": "code",
        "colab": {}
      },
      "source": [
        "features = ['Population', 'Weight','Date']\n",
        "X_test = test[features]\n",
        "test_preds = model.predict(X_test)"
      ],
      "execution_count": 0,
      "outputs": []
    },
    {
      "cell_type": "code",
      "metadata": {
        "id": "SCNhrjlHMy-8",
        "outputId": "8b960560-6a7b-4029-9fe8-25af932fa929",
        "colab_type": "code",
        "colab": {}
      },
      "source": [
        "test_preds#Predictions based on test dataset"
      ],
      "execution_count": 0,
      "outputs": [
        {
          "output_type": "execute_result",
          "data": {
            "text/plain": [
              "array([114.07      ,   3.27463492, 114.07      , ...,   2.5       ,\n",
              "         0.20166667,   2.5       ])"
            ]
          },
          "metadata": {
            "tags": []
          },
          "execution_count": 24
        }
      ]
    },
    {
      "cell_type": "code",
      "metadata": {
        "id": "OOY4M2T02vWB",
        "colab_type": "code",
        "colab": {}
      },
      "source": [
        "pred_list =[int(x) for x in test_preds]\n",
        "output = pd.DataFrame({'Id': test.index, 'TargetValue': pred_list})"
      ],
      "execution_count": 0,
      "outputs": []
    },
    {
      "cell_type": "markdown",
      "metadata": {
        "id": "fnGG7Ju82vWP",
        "colab_type": "text"
      },
      "source": [
        "\n",
        "\n",
        "\n",
        "\n",
        "\n",
        "\n",
        "\n",
        "\n",
        "\n",
        "\n",
        "\n",
        "\n",
        "\n",
        "\n",
        "\n",
        "\n",
        "\n",
        "\n",
        "\n",
        "\n",
        "\n",
        "\n",
        "\n",
        "\n",
        "\n",
        "\n",
        "\n",
        "\n",
        "\n",
        "\n",
        "\n",
        "\n",
        "\n",
        "\n",
        "\n",
        "\n",
        "\n",
        "\n",
        "\n",
        "\n",
        "\n",
        "\n",
        "## Finding Quanlite values from the output"
      ]
    },
    {
      "cell_type": "code",
      "metadata": {
        "id": "hfPQ64Y72vWR",
        "colab_type": "code",
        "colab": {}
      },
      "source": [
        "a = output.groupby(['Id'])['TargetValue'].quantile(q=0.05).reset_index() \n",
        "b = output.groupby(['Id'])['TargetValue'].quantile(q=0.5).reset_index() \n",
        "c = output.groupby(['Id'])['TargetValue'].quantile(q=0.05).reset_index()"
      ],
      "execution_count": 0,
      "outputs": []
    },
    {
      "cell_type": "code",
      "metadata": {
        "id": "3129SxzA2vWg",
        "outputId": "42d35e5a-5169-49b3-9632-e8e91acbe025",
        "colab_type": "code",
        "colab": {}
      },
      "source": [
        "a.columns = ['Id', 'q0.05']\n",
        "b.columns = ['Id', 'q0.5']\n",
        "c.columns = ['Id', 'q0.95']\n",
        "\n",
        "a = pd.concat([a,b['q0.5'],c['q0.95']], 1)\n",
        "\n",
        "a['q0.05'] = a['q0.05'].clip(0, 10000)\n",
        "a['q0.5'] = a['q0.5'].clip(0, 10000)\n",
        "a['q0.95'] = a['q0.95'].clip(0, 10000)\n",
        "\n",
        "a"
      ],
      "execution_count": 0,
      "outputs": [
        {
          "output_type": "execute_result",
          "data": {
            "text/html": [
              "<div>\n",
              "<style scoped>\n",
              "    .dataframe tbody tr th:only-of-type {\n",
              "        vertical-align: middle;\n",
              "    }\n",
              "\n",
              "    .dataframe tbody tr th {\n",
              "        vertical-align: top;\n",
              "    }\n",
              "\n",
              "    .dataframe thead th {\n",
              "        text-align: right;\n",
              "    }\n",
              "</style>\n",
              "<table border=\"1\" class=\"dataframe\">\n",
              "  <thead>\n",
              "    <tr style=\"text-align: right;\">\n",
              "      <th></th>\n",
              "      <th>Id</th>\n",
              "      <th>q0.05</th>\n",
              "      <th>q0.5</th>\n",
              "      <th>q0.95</th>\n",
              "    </tr>\n",
              "  </thead>\n",
              "  <tbody>\n",
              "    <tr>\n",
              "      <th>0</th>\n",
              "      <td>0</td>\n",
              "      <td>114.0</td>\n",
              "      <td>114.0</td>\n",
              "      <td>114.0</td>\n",
              "    </tr>\n",
              "    <tr>\n",
              "      <th>1</th>\n",
              "      <td>1</td>\n",
              "      <td>3.0</td>\n",
              "      <td>3.0</td>\n",
              "      <td>3.0</td>\n",
              "    </tr>\n",
              "    <tr>\n",
              "      <th>2</th>\n",
              "      <td>2</td>\n",
              "      <td>114.0</td>\n",
              "      <td>114.0</td>\n",
              "      <td>114.0</td>\n",
              "    </tr>\n",
              "    <tr>\n",
              "      <th>3</th>\n",
              "      <td>3</td>\n",
              "      <td>3.0</td>\n",
              "      <td>3.0</td>\n",
              "      <td>3.0</td>\n",
              "    </tr>\n",
              "    <tr>\n",
              "      <th>4</th>\n",
              "      <td>4</td>\n",
              "      <td>114.0</td>\n",
              "      <td>114.0</td>\n",
              "      <td>114.0</td>\n",
              "    </tr>\n",
              "    <tr>\n",
              "      <th>...</th>\n",
              "      <td>...</td>\n",
              "      <td>...</td>\n",
              "      <td>...</td>\n",
              "      <td>...</td>\n",
              "    </tr>\n",
              "    <tr>\n",
              "      <th>311665</th>\n",
              "      <td>311665</td>\n",
              "      <td>2.0</td>\n",
              "      <td>2.0</td>\n",
              "      <td>2.0</td>\n",
              "    </tr>\n",
              "    <tr>\n",
              "      <th>311666</th>\n",
              "      <td>311666</td>\n",
              "      <td>0.0</td>\n",
              "      <td>0.0</td>\n",
              "      <td>0.0</td>\n",
              "    </tr>\n",
              "    <tr>\n",
              "      <th>311667</th>\n",
              "      <td>311667</td>\n",
              "      <td>2.0</td>\n",
              "      <td>2.0</td>\n",
              "      <td>2.0</td>\n",
              "    </tr>\n",
              "    <tr>\n",
              "      <th>311668</th>\n",
              "      <td>311668</td>\n",
              "      <td>0.0</td>\n",
              "      <td>0.0</td>\n",
              "      <td>0.0</td>\n",
              "    </tr>\n",
              "    <tr>\n",
              "      <th>311669</th>\n",
              "      <td>311669</td>\n",
              "      <td>2.0</td>\n",
              "      <td>2.0</td>\n",
              "      <td>2.0</td>\n",
              "    </tr>\n",
              "  </tbody>\n",
              "</table>\n",
              "<p>311670 rows × 4 columns</p>\n",
              "</div>"
            ],
            "text/plain": [
              "            Id  q0.05   q0.5  q0.95\n",
              "0            0  114.0  114.0  114.0\n",
              "1            1    3.0    3.0    3.0\n",
              "2            2  114.0  114.0  114.0\n",
              "3            3    3.0    3.0    3.0\n",
              "4            4  114.0  114.0  114.0\n",
              "...        ...    ...    ...    ...\n",
              "311665  311665    2.0    2.0    2.0\n",
              "311666  311666    0.0    0.0    0.0\n",
              "311667  311667    2.0    2.0    2.0\n",
              "311668  311668    0.0    0.0    0.0\n",
              "311669  311669    2.0    2.0    2.0\n",
              "\n",
              "[311670 rows x 4 columns]"
            ]
          },
          "metadata": {
            "tags": []
          },
          "execution_count": 27
        }
      ]
    },
    {
      "cell_type": "code",
      "metadata": {
        "id": "_WbP_k3u2vWw",
        "outputId": "7dfa69b8-e7f1-4d29-afc4-47be4f966f6c",
        "colab_type": "code",
        "colab": {}
      },
      "source": [
        "a['Id'] = a['Id'] + 1\n",
        "a"
      ],
      "execution_count": 0,
      "outputs": [
        {
          "output_type": "execute_result",
          "data": {
            "text/html": [
              "<div>\n",
              "<style scoped>\n",
              "    .dataframe tbody tr th:only-of-type {\n",
              "        vertical-align: middle;\n",
              "    }\n",
              "\n",
              "    .dataframe tbody tr th {\n",
              "        vertical-align: top;\n",
              "    }\n",
              "\n",
              "    .dataframe thead th {\n",
              "        text-align: right;\n",
              "    }\n",
              "</style>\n",
              "<table border=\"1\" class=\"dataframe\">\n",
              "  <thead>\n",
              "    <tr style=\"text-align: right;\">\n",
              "      <th></th>\n",
              "      <th>Id</th>\n",
              "      <th>q0.05</th>\n",
              "      <th>q0.5</th>\n",
              "      <th>q0.95</th>\n",
              "    </tr>\n",
              "  </thead>\n",
              "  <tbody>\n",
              "    <tr>\n",
              "      <th>0</th>\n",
              "      <td>1</td>\n",
              "      <td>114.0</td>\n",
              "      <td>114.0</td>\n",
              "      <td>114.0</td>\n",
              "    </tr>\n",
              "    <tr>\n",
              "      <th>1</th>\n",
              "      <td>2</td>\n",
              "      <td>3.0</td>\n",
              "      <td>3.0</td>\n",
              "      <td>3.0</td>\n",
              "    </tr>\n",
              "    <tr>\n",
              "      <th>2</th>\n",
              "      <td>3</td>\n",
              "      <td>114.0</td>\n",
              "      <td>114.0</td>\n",
              "      <td>114.0</td>\n",
              "    </tr>\n",
              "    <tr>\n",
              "      <th>3</th>\n",
              "      <td>4</td>\n",
              "      <td>3.0</td>\n",
              "      <td>3.0</td>\n",
              "      <td>3.0</td>\n",
              "    </tr>\n",
              "    <tr>\n",
              "      <th>4</th>\n",
              "      <td>5</td>\n",
              "      <td>114.0</td>\n",
              "      <td>114.0</td>\n",
              "      <td>114.0</td>\n",
              "    </tr>\n",
              "    <tr>\n",
              "      <th>...</th>\n",
              "      <td>...</td>\n",
              "      <td>...</td>\n",
              "      <td>...</td>\n",
              "      <td>...</td>\n",
              "    </tr>\n",
              "    <tr>\n",
              "      <th>311665</th>\n",
              "      <td>311666</td>\n",
              "      <td>2.0</td>\n",
              "      <td>2.0</td>\n",
              "      <td>2.0</td>\n",
              "    </tr>\n",
              "    <tr>\n",
              "      <th>311666</th>\n",
              "      <td>311667</td>\n",
              "      <td>0.0</td>\n",
              "      <td>0.0</td>\n",
              "      <td>0.0</td>\n",
              "    </tr>\n",
              "    <tr>\n",
              "      <th>311667</th>\n",
              "      <td>311668</td>\n",
              "      <td>2.0</td>\n",
              "      <td>2.0</td>\n",
              "      <td>2.0</td>\n",
              "    </tr>\n",
              "    <tr>\n",
              "      <th>311668</th>\n",
              "      <td>311669</td>\n",
              "      <td>0.0</td>\n",
              "      <td>0.0</td>\n",
              "      <td>0.0</td>\n",
              "    </tr>\n",
              "    <tr>\n",
              "      <th>311669</th>\n",
              "      <td>311670</td>\n",
              "      <td>2.0</td>\n",
              "      <td>2.0</td>\n",
              "      <td>2.0</td>\n",
              "    </tr>\n",
              "  </tbody>\n",
              "</table>\n",
              "<p>311670 rows × 4 columns</p>\n",
              "</div>"
            ],
            "text/plain": [
              "            Id  q0.05   q0.5  q0.95\n",
              "0            1  114.0  114.0  114.0\n",
              "1            2    3.0    3.0    3.0\n",
              "2            3  114.0  114.0  114.0\n",
              "3            4    3.0    3.0    3.0\n",
              "4            5  114.0  114.0  114.0\n",
              "...        ...    ...    ...    ...\n",
              "311665  311666    2.0    2.0    2.0\n",
              "311666  311667    0.0    0.0    0.0\n",
              "311667  311668    2.0    2.0    2.0\n",
              "311668  311669    0.0    0.0    0.0\n",
              "311669  311670    2.0    2.0    2.0\n",
              "\n",
              "[311670 rows x 4 columns]"
            ]
          },
          "metadata": {
            "tags": []
          },
          "execution_count": 28
        }
      ]
    },
    {
      "cell_type": "markdown",
      "metadata": {
        "id": "W49RO42k2vW9",
        "colab_type": "text"
      },
      "source": [
        "## Submission"
      ]
    },
    {
      "cell_type": "code",
      "metadata": {
        "id": "SbCh8G2d2vXA",
        "colab_type": "code",
        "colab": {}
      },
      "source": [
        "sub=pd.melt(a, id_vars=['Id'], value_vars=['q0.05','q0.5','q0.95'])\n",
        "sub['variable']=sub['variable'].str.replace(\"q\",\"\", regex=False)\n",
        "sub['ForecastId_Quantile']=sub['Id'].astype(str)+'_'+sub['variable']\n",
        "sub['TargetValue']=sub['value']\n",
        "sub=sub[['ForecastId_Quantile','TargetValue']]\n",
        "sub.reset_index(drop=True,inplace=True)\n",
        "sub.to_csv(\"submission.csv\",index=False)"
      ],
      "execution_count": 0,
      "outputs": []
    },
    {
      "cell_type": "code",
      "metadata": {
        "id": "NqMBPtoa2vXQ",
        "colab_type": "code",
        "colab": {}
      },
      "source": [
        ""
      ],
      "execution_count": 0,
      "outputs": []
    }
  ]
}